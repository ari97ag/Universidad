{
 "cells": [
  {
   "cell_type": "markdown",
   "metadata": {},
   "source": [
    "CONSULTAS EN SQL & MANEJO DE TABLAS POR MEDIO DE PANDAS"
   ]
  },
  {
   "cell_type": "code",
   "execution_count": null,
   "metadata": {},
   "outputs": [],
   "source": [
    "import sqlite3\n",
    "import pandas as pd\n",
    "\n",
    "#Crear el archivo o cargar la ruta del archivo con el cual trabajar\n",
    "conexion = sqlite3.connect(\"db_demo.db\")\n",
    "\n",
    "c = conexion.cursor()\n",
    "\n",
    "#Cargar atributos de la base de datos para dos tablas\n",
    "c.execute(\"\"\"CREATE TABLE DEMO1 (\n",
    "                id INT PRIMARE KEY NOT NULL,\n",
    "                nombre TEXT NOT NULL,\n",
    "                sueldo INT NOT NULL,\n",
    "                total_horas INT NOT NULL        \n",
    "                )\"\"\")\n",
    "\n",
    "c.execute(\"\"\"CREATE TABLE DEMO2 (\n",
    "                id INT PRIMARE KEY NOT NULL,\n",
    "                sexo TEXT NOT NULL,\n",
    "                productividad total_horas INT NOT NULL        \n",
    "                )\"\"\")\n",
    "\n",
    "conexion.commit()\n",
    "conexion.close()"
   ]
  },
  {
   "cell_type": "code",
   "execution_count": null,
   "metadata": {},
   "outputs": [],
   "source": [
    "conexion = sqlite3.connect(\"/Users/ari97ag/Python/BI_Python/db_demo.db\")\n",
    "\n",
    "#Carga de observaciones\n",
    "c = conexion.cursor()\n",
    "\n",
    "LISTA_GENTE1=[(1,\"Marjiory\",1000000,20),\n",
    "             (2,\"Arí\",500000,45),\n",
    "             (3,\"Silvana\",540000,40),\n",
    "             (4,\"Daniela\",2000000,10),\n",
    "             (5,\"Coté\",700000,30)]\n",
    "\n",
    "c.executemany(\"INSERT INTO DEMO1 VALUES (?,?,?,?)\",LISTA_GENTE1)\n",
    "\n",
    "LISTA_GENTE2=[(1,\"F\",6),\n",
    "             (2,\"M\",5),\n",
    "             (3,\"F\",4),\n",
    "             (4,\"F\",5),\n",
    "             (5,\"F\",7)]\n",
    "\n",
    "c.executemany(\"INSERT INTO DEMO2 VALUES (?,?,?)\",LISTA_GENTE2)\n",
    "\n",
    "conexion.commit()\n",
    "\n",
    "conexion.close()"
   ]
  },
  {
   "cell_type": "code",
   "execution_count": null,
   "metadata": {},
   "outputs": [],
   "source": [
    "conexion = sqlite3.connect(\"/Users/ari97ag/Python/BI_Python/db_demo.db\")\n",
    "\n",
    "#Consulta 1\n",
    "print(\"Consulta 1 (SQL)\")\n",
    "c = conexion.cursor()\n",
    "c.execute(\"SELECT * FROM DEMO1\")\n",
    "query1=pd.DataFrame(c.fetchall(),columns=[\"id\",\"nombre\",\"sueldo\",\"total_horas\"])\n",
    "print(query1)\n",
    "print()\n",
    "pandita1 = query1\n",
    "conexion.commit()\n",
    "conexion.close()\n",
    "\n",
    "#Tabla 1\n",
    "print(\"Tabla 1 (PANDAS)\")\n",
    "print(pandita1)\n",
    "print()"
   ]
  },
  {
   "cell_type": "code",
   "execution_count": null,
   "metadata": {},
   "outputs": [],
   "source": [
    "conexion = sqlite3.connect(\"/Users/ari97ag/Python/BI_Python/db_demo.db\")\n",
    "\n",
    "#Consulta 2\n",
    "print(\"Consulta 2 (SQL)\")\n",
    "c = conexion.cursor()\n",
    "c.execute(\"SELECT * FROM DEMO2\")\n",
    "query2=pd.DataFrame(c.fetchall(),columns=[\"id\",\"sexo\",\"productividad\"])\n",
    "print(query2)\n",
    "print()\n",
    "pandita2 = query2\n",
    "conexion.commit()\n",
    "conexion.close()\n",
    "\n",
    "#Tabla o consulta 2\n",
    "print(\"Tabla 2 (PANDAS)\")\n",
    "print(pandita2)\n",
    "print()"
   ]
  },
  {
   "cell_type": "code",
   "execution_count": null,
   "metadata": {},
   "outputs": [],
   "source": [
    "conexion = sqlite3.connect(\"/Users/ari97ag/Python/BI_Python/db_demo.db\")\n",
    "\n",
    "#Consulta 3\n",
    "print(\"Consulta 3 (SQL)\")\n",
    "c = conexion.cursor()\n",
    "c.execute(\"SELECT *, sueldo / total_horas AS sueldo_hora FROM DEMO1\")\n",
    "query3=pd.DataFrame(c.fetchall(),columns=[\"id\",\"nombre\",\"sueldo\",\"total_horas\",\"sueldo_hora\"])\n",
    "print(query3)\n",
    "print()\n",
    "conexion.commit()\n",
    "conexion.close()\n",
    "\n",
    "#Tabla o Consulta 3\n",
    "print(\"Tabla 3 (PANDAS)\")\n",
    "print(pandita1.assign(sueldo_hora=pandita1['sueldo'] / pandita1['total_horas']).head())\n",
    "print()"
   ]
  },
  {
   "cell_type": "code",
   "execution_count": null,
   "metadata": {},
   "outputs": [],
   "source": [
    "conexion = sqlite3.connect(\"/Users/ari97ag/Python/BI_Python/db_demo.db\")\n",
    "\n",
    "#Consulta 4\n",
    "print(\"Consulta 4 (SQL)\")\n",
    "c = conexion.cursor()\n",
    "c.execute(\"SELECT * FROM DEMO1 WHERE sueldo==500000 AND total_horas>=45\")\n",
    "query4=pd.DataFrame(c.fetchall(),columns=[\"id\",\"nombre\",\"sueldo\",\"total_horas\"])\n",
    "print(query4)\n",
    "print()\n",
    "conexion.commit()\n",
    "conexion.close()\n",
    "\n",
    "#Tabla o Consulta 4\n",
    "print(\"Tabla 4 (PANDAS)\")\n",
    "print(pandita1[(pandita1['sueldo'] == 500000) & (pandita1['total_horas'] >= 45)])\n",
    "print()"
   ]
  },
  {
   "cell_type": "code",
   "execution_count": null,
   "metadata": {},
   "outputs": [],
   "source": [
    "conexion = sqlite3.connect(\"/Users/ari97ag/Python/BI_Python/db_demo.db\")\n",
    "\n",
    "#Consulta 5\n",
    "print(\"Consulta 5 (SQL)\")\n",
    "c = conexion.cursor()\n",
    "c.execute(\"SELECT sexo, COUNT(*) FROM DEMO2 GROUP BY sexo\")\n",
    "query5=pd.DataFrame(c.fetchall(),columns=[\"sexo\",\"cant\"])\n",
    "print(query5)\n",
    "print()\n",
    "conexion.commit()\n",
    "conexion.close()\n",
    "\n",
    "#Tabla o Consulta 5\n",
    "print(\"Tabla 5 (PANDAS)\")\n",
    "print(pandita2.groupby('sexo').size())\n",
    "print()"
   ]
  },
  {
   "cell_type": "code",
   "execution_count": null,
   "metadata": {},
   "outputs": [],
   "source": [
    "conexion = sqlite3.connect(\"/Users/ari97ag/Python/BI_Python/db_demo.db\")\n",
    "\n",
    "#Consulta 6\n",
    "print(\"Consulta 6 (SQL)\")\n",
    "c = conexion.cursor()\n",
    "c.execute(\"SELECT DEMO1.id, DEMO1.nombre, DEMO1.sueldo, DEMO1.total_horas, DEMO2.sexo,\"\n",
    "          \"DEMO2.productividad FROM DEMO1 JOIN DEMO2 ON DEMO1.id = DEMO2.id AND DEMO2.id = DEMO1.id\")\n",
    "query6=pd.DataFrame(c.fetchall(),columns=[\"id\",\"nombre\",\"sueldo\",\"total_horas\",\"sexo\",\"productividad\"])\n",
    "print(query6)\n",
    "print()\n",
    "conexion.commit()\n",
    "conexion.close()\n",
    "\n",
    "#Tabla o Consulta 6\n",
    "print(\"Tabla 6 (PANDAS)\")\n",
    "print(pd.merge(pandita1, pandita2, on='id'))"
   ]
  },
  {
   "cell_type": "code",
   "execution_count": null,
   "metadata": {},
   "outputs": [],
   "source": []
  }
 ],
 "metadata": {
  "kernelspec": {
   "display_name": "Python 3",
   "language": "python",
   "name": "python3"
  },
  "language_info": {
   "codemirror_mode": {
    "name": "ipython",
    "version": 3
   },
   "file_extension": ".py",
   "mimetype": "text/x-python",
   "name": "python",
   "nbconvert_exporter": "python",
   "pygments_lexer": "ipython3",
   "version": "3.8.3"
  }
 },
 "nbformat": 4,
 "nbformat_minor": 4
}
